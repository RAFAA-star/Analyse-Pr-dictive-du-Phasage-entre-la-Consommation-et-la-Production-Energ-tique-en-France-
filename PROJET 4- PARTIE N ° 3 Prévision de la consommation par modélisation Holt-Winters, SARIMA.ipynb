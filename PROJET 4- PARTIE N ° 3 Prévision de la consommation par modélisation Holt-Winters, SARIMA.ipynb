{
 "cells": [
  {
   "cell_type": "markdown",
   "id": "a3194535",
   "metadata": {},
   "source": [
    "# Prédiction de la demande en électricité sur le marché français\n",
    "*Etude data - Projet 4 - (Mars 2023)\n",
    "\n",
    "***Data Scientest -Formation Bootcamp**\n",
    "\n",
    "Traitement des données sur Jupyter Notebook (Distribution Anaconda)*\n",
    "\n",
    "**Etude réalisée en langage Python**\n",
    "\n",
    "**Data source**\n",
    "\n",
    "Données mensuelles de consommation totale d'électricité en énergie Données météo pour corriger l'effet température\n",
    "\n",
    "Les consommations en électricité sont exprimées en Gigawatt (GWh)."
   ]
  },
  {
   "cell_type": "markdown",
   "id": "e19d43f7",
   "metadata": {},
   "source": [
    "### Prévision de la consommation (corrigée de l'effet température) sur un an\n",
    "                              \n",
    "La phase de prédition se fera en utilisant la méthode de Holt-Winters (lissage exponentiel) puis la méthode SARIMA."
   ]
  },
  {
   "cell_type": "markdown",
   "id": "66f60570",
   "metadata": {},
   "source": [
    "### Prévision à l'aide du lissage exponentiel par la méthode de Holt-Winters\n",
    "\n",
    "La méthode ExponentialSmoothing de statsmodels est utilisée pour modéliser le lissage exponentiel d'Holt-Winters."
   ]
  },
  {
   "cell_type": "code",
   "execution_count": null,
   "id": "533f0ab4",
   "metadata": {},
   "outputs": [],
   "source": [
    "from statsmodels.tsa.api import ExponentialSmoothing\n",
    "\n",
    "y = np.asarray(df[\"conso_corr\"])\n",
    "hw = ExponentialSmoothing(y, seasonal_periods=12, trend='add', seasonal='add').fit()\n",
    "hw_pred = hw.forecast(12)"
   ]
  },
  {
   "cell_type": "code",
   "execution_count": null,
   "id": "299a7bbe",
   "metadata": {},
   "outputs": [],
   "source": [
    "#Visualisation de la prévision à 12 mois par Holt-Winters\n",
    "plt.plot(df[\"conso_corr\"], label='Consommation corrigée')\n",
    "plt.plot(pd.date_range(df.index[len(y)-1], periods=12, freq='M'), hw_pred, label='Prévision Holt-Winters')\n",
    "\n",
    "plt.title(\"Consommation d'électricité en France - Prévision 2019\")\n",
    "\n",
    "plt.savefig(\"p9_graphic/prevision2019_holt-winters.png\")\n",
    "plt.legend()\n",
    "plt.show()"
   ]
  },
  {
   "cell_type": "markdown",
   "id": "a7998113",
   "metadata": {},
   "source": [
    "La méthode de Holt-Winters est la plus raisonnable des méthodes de lissage exponentiel. La prévision sur un an de la consommation, corrigée de l'effet température, tient compte de la saisonnalité. Ci-dessous une visualisation par restriction sur la période 2018/2019."
   ]
  },
  {
   "cell_type": "code",
   "execution_count": null,
   "id": "cfb7b7d4",
   "metadata": {},
   "outputs": [],
   "source": [
    "#Visualisation par restriction sur l'année de prévision et n-1 (2018/2019)\n",
    "plt.plot(df[\"conso_corr\"].iloc[-12:], label='Consommation corrigée')\n",
    "plt.plot(pd.date_range(df.index[len(y)-1], periods=12, freq='M'), hw_pred, label='Prévision Holt-Winters')\n",
    "\n",
    "plt.title(\"Consommation d'électricité en France 2018 - Prévision 2019\")\n",
    "        \n",
    "plt.legend()\n",
    "plt.savefig(\"p9_graphic/prevision_visu20182019_holt-winters.png\")\n",
    "plt.show()"
   ]
  },
  {
   "cell_type": "markdown",
   "id": "4c5fe4d4",
   "metadata": {},
   "source": [
    "### Analyse a posteriori\n",
    "On tronque la série de l’année 2018, qu’on cherche ensuite à prévoir à partir de l’historique 2012-2017. Cette analyse permet d'avoir une idée de la qualité prédictive du modèle choisi."
   ]
  },
  {
   "cell_type": "code",
   "execution_count": null,
   "id": "8c713289",
   "metadata": {},
   "outputs": [],
   "source": [
    "#Troncature des données sur les années 2017 et 2018\n",
    "df_tronc = df[:'2017']\n",
    "x_prevision = df['2018':]"
   ]
  },
  {
   "cell_type": "code",
   "execution_count": null,
   "id": "1031d934",
   "metadata": {},
   "outputs": [],
   "source": [
    "#Visualisation par restriction sur l'année 2018\n",
    "y = df_tronc[\"conso_corr\"]\n",
    "\n",
    "hw = ExponentialSmoothing(y, seasonal_periods=12, trend='add', seasonal='add').fit()\n",
    "hw_pred = hw.forecast(12)\n",
    "\n",
    "plt.plot(df[\"conso_corr\"].iloc[-12:], label='Consommation corrigée')\n",
    "plt.plot(x_prevision.index, hw_pred, color='r', label='Prévision Holt-Winters')\n",
    "\n",
    "plt.title(\"Consommation d'électricité en France - Prévision a posteriori 2018\")\n",
    "\n",
    "plt.savefig(\"p9_graphic/prevision_visu20182019_holt-winters_aposteriori.png\")\n",
    "plt.legend()\n",
    "plt.show()"
   ]
  },
  {
   "cell_type": "markdown",
   "id": "43019c4f",
   "metadata": {},
   "source": [
    "Par les chiffres nous pouvons calculer le MAPE (Mean Absolute Percentage). L’erreur absolue moyenne en pourcentage, en d'autres termes la moyenne des écarts en valeur absolue par rapport aux valeurs observées."
   ]
  },
  {
   "cell_type": "code",
   "execution_count": null,
   "id": "291d7640",
   "metadata": {},
   "outputs": [],
   "source": [
    "#Calcul du MAPE\n",
    "mape = round((np.abs(1-hw_pred/x_prevision[\"conso_corr\"])).mean()*100, 2)\n",
    "mape"
   ]
  },
  {
   "cell_type": "markdown",
   "id": "611d3a6d",
   "metadata": {},
   "source": [
    "Une analyse a posteriori sur 24 mois peut également être appliquée pour déterminer d'éventuelles limites prédictives."
   ]
  },
  {
   "cell_type": "code",
   "execution_count": null,
   "id": "5124c3fd",
   "metadata": {},
   "outputs": [],
   "source": [
    "#Troncature des données pour une prévision a posteriori de 24 mois\n",
    "df_tronc = df[:'2016']\n",
    "x_prevision = df['2017':]"
   ]
  },
  {
   "cell_type": "code",
   "execution_count": null,
   "id": "0b9e9e52",
   "metadata": {},
   "outputs": [],
   "source": [
    "#Visualisation par restriction sur les années de prévision 2017 et 2018\n",
    "y = df_tronc[\"conso_corr\"]\n",
    "\n",
    "hw = ExponentialSmoothing(y, seasonal_periods=12, trend='add', seasonal='add').fit()\n",
    "hw_pred = hw.forecast(24)\n",
    "\n",
    "plt.plot(df[\"conso_corr\"].iloc[-24:], label='Consommation corrigée')\n",
    "plt.plot(x_prevision.index, hw_pred, color='r', label='Prévision Holt-Winters')\n",
    "\n",
    "plt.title(\"Consommation d'électricité en France a posteriori 2017/2018\")\n",
    "\n",
    "plt.savefig(\"p9_graphic/prevision_visu20172018_holt-winters_aposteriori.png\")\n",
    "plt.legend()\n",
    "plt.show()"
   ]
  },
  {
   "cell_type": "code",
   "execution_count": null,
   "id": "99614588",
   "metadata": {},
   "outputs": [],
   "source": [
    "#Calcul du MAPE\n",
    "mape = round((np.abs(1-hw_pred/x_prevision[\"conso_corr\"])).mean()*100, 2)\n",
    "print(\"MAPE :\" + str(mape))"
   ]
  },
  {
   "cell_type": "markdown",
   "id": "2eb65f78",
   "metadata": {},
   "source": [
    "Cet indicateur nous permettra d'établir une comparaison avec les futures prévisions, et nous pourrons arrêter notre choix sur le modèle le plus performant. Dans l'immédiat, l'analyse a posteriori doublée sur 24 mois permet de penser que le modèle résiste plutôt bien aux impacts saisonniers sur du long terme. Ceci étant, les excédents des pics et creux ne sont pas totalement prévisibles par le modèle, les prévisions SARIMA seront-elles plus représentatives des variations de charge électrique?"
   ]
  },
  {
   "cell_type": "markdown",
   "id": "c6bc4172",
   "metadata": {},
   "source": [
    "### Prévision à l'aide d'un modèle ARIMA saisonnier de format : SARIMA(p,d,q)(P,D,Q)(t)"
   ]
  },
  {
   "cell_type": "markdown",
   "id": "c8547280",
   "metadata": {},
   "source": [
    "Plusieurs étapes sont nécessaires :\n",
    "\n",
    "1-Identifier/confirmer la saisonnalité s (autocorrélogrammes)\n",
    "\n",
    "2-Stationnariser la série temporelle (différenciation)\n",
    "\n",
    "3-Déterminer des ordres optimaux plausibles\n",
    "\n",
    "4-Estimer les paramètres et les départager par l’AIC (ou le BIC)\n",
    "\n",
    "5-Valider ou non le modèle par un diagnostique des résidus (test, représentation graphique, autocorrélogramme)\n",
    "\n",
    "6-Confirmer le(s) choix en simulant la prévision."
   ]
  },
  {
   "cell_type": "markdown",
   "id": "4b2c1f8d",
   "metadata": {},
   "source": [
    "### Stationnarité et différenciation de la série :\n",
    "\n",
    "Nous sommes en présence d'une série temporelle marquée par une forte saisonnalité, très classique sur les températures climatiques. Il n'est pas possible de modéliser directement par un processus stationnaire, la stationnarisation du processus sera donc mise en oeuvre. La méthode retenue sera la différenciation."
   ]
  },
  {
   "cell_type": "code",
   "execution_count": null,
   "id": "a0154eae",
   "metadata": {},
   "outputs": [],
   "source": [
    "#Fonction affichant le Test de Dickey–Fuller avec les autocorrélogrammes ACF et PACF\n",
    "def tsplot(y, lags=None, figsize=(20, 10), style='bmh'):\n",
    "    \"\"\"\n",
    "        Test de Dickey–Fuller \n",
    "        avec Autocorrélogrammes ACF et PACF\n",
    "        \n",
    "    \"\"\"\n",
    "    if not isinstance(y, pd.Series):\n",
    "        y = pd.Series(y)\n",
    "        \n",
    "    with plt.style.context(style):    \n",
    "        fig = plt.figure(figsize=figsize)\n",
    "        layout = (2, 2)\n",
    "        ts_ax = plt.subplot2grid(layout, (0, 0), colspan=2)\n",
    "        acf_ax = plt.subplot2grid(layout, (1, 0))\n",
    "        pacf_ax = plt.subplot2grid(layout, (1, 1))\n",
    "        \n",
    "        y.plot(ax=ts_ax)\n",
    "        p_value = sm.tsa.stattools.adfuller(y)[1]\n",
    "        ts_ax.set_title('Time Series Analysis Plots\\n Dickey-Fuller: p={0:.5f}'.format(p_value))\n",
    "        smt.graphics.plot_acf(y, lags=lags, ax=acf_ax)\n",
    "        smt.graphics.plot_pacf(y, lags=lags, ax=pacf_ax)\n",
    "        plt.tight_layout()"
   ]
  },
  {
   "cell_type": "code",
   "execution_count": null,
   "id": "48edc2f1",
   "metadata": {},
   "outputs": [],
   "source": [
    "#Test de Dickey–Fuller avec Autocorrélogrammes ACF et PACF\n",
    "tsplot(df['conso_corr'], lags=60)"
   ]
  },
  {
   "cell_type": "markdown",
   "id": "9df4b7a2",
   "metadata": {},
   "source": [
    "La sortie ACF présente une décroissance lente vers 0, ce qui traduit un problème de non-stationnarité. Confirmation également par le test de Dickey-Fuller portant pour hypothèse nulle la non-stationnarité de la série, ne pouvant pas être rejetée. On effectue donc une première différenciation."
   ]
  },
  {
   "cell_type": "code",
   "execution_count": null,
   "id": "2722c694",
   "metadata": {},
   "outputs": [],
   "source": [
    "#Première différenciation d'ordre 1 par la méthode .shift()\n",
    "df_diff1 = df['conso_corr'] - df['conso_corr'].shift(1)\n",
    "tsplot(df_diff1[1:], lags=60)"
   ]
  },
  {
   "cell_type": "markdown",
   "id": "67e22bd6",
   "metadata": {},
   "source": [
    "La sortie ACF de la série ainsi différenciée présente encore une décroissance lente vers 0 pour les multiples de 12. On effectue cette fois la différenciation d'ordre 12."
   ]
  },
  {
   "cell_type": "code",
   "execution_count": null,
   "id": "d3c88d77",
   "metadata": {},
   "outputs": [],
   "source": [
    "#Seconde différenciation d'ordre 12 \n",
    "df_diff1_12 = df_diff1 - df_diff1.shift(12)\n",
    "tsplot(df_diff1_12[13:], lags=60)"
   ]
  },
  {
   "cell_type": "markdown",
   "id": "16cec362",
   "metadata": {},
   "source": [
    "Cette fois-ci les résultats sont satisfaisants, nous pouvons nous appuyer sur les autocorrélogrammes simple et partiels estimés."
   ]
  },
  {
   "cell_type": "markdown",
   "id": "7d35417a",
   "metadata": {},
   "source": [
    "### Génération d'une configuration optimale SARIMA :\n",
    "\n",
    "\n",
    "L’identification des combinaisons sera faite par l’approche d’optimisation des polynômes AR et MA. Nous cherchons à minimiser le critère d’information d’Akaike AIC pour déterminer les ordres optimaux. La blancheur et normalité du résidu est également un critère à prendre en compte."
   ]
  },
  {
   "cell_type": "code",
   "execution_count": null,
   "id": "4d0da3fc",
   "metadata": {},
   "outputs": [],
   "source": [
    "#Détermination du meilleur modèle de prévision \n",
    "from time import time\n",
    "DUREE_PREDITE = 12 #prédiction sur 12 mois\n",
    "troncature = DUREE_PREDITE\n",
    "y = df['conso_corr']\n",
    "y_prevision = y[-troncature:]\n",
    "\n",
    "#Calcul de toutes les combinaisons de p, d et q\n",
    "pdq_list = list(itertools.product(range(3),\n",
    "                             range(2), \n",
    "                             range(3)\n",
    "           ))\n",
    "\n",
    "#Calcul de toutes les combinaisons de P, D et Q\n",
    "PDQ_list = [ (*val, 12) for val in list(itertools.product(\n",
    "                            range(3), \n",
    "                            range(2), \n",
    "                            range(3))\n",
    "            )]\n",
    "\n",
    "\n",
    "#Nombre de configurations total pour un modèle SARIMA\n",
    "n = len(pdq_list) * len(PDQ_list)\n",
    "\n",
    "#Dataframe pour stockage des valeurs\n",
    "results_SARIMA = pd.DataFrame({'modele':[], 'aic':[], 'bic':[], 'ljungbox':[], 'pvalues':[]})\n",
    "counter = 1\n",
    "s_time = time()\n",
    "\n",
    "#Itération sur toutes les combinaisons\n",
    "for pdq in pdq_list:\n",
    "    for PDQ in PDQ_list:\n",
    "        try:\n",
    "            #Instanciation et entrainement du modèle SARIMA\n",
    "            mod = SARIMAX(np.asarray(y), order = pdq, seasonal_order = PDQ, \n",
    "                          enforce_stationarity=False, enforce_invertibility=False)\n",
    "            result = mod.fit()\n",
    "                    \n",
    "            #Intégration des indicateurs dans le précédent dataframe\n",
    "            results_SARIMA = results_SARIMA.append({'modele':f\"{pdq}x{PDQ}\", \n",
    "                            'aic': result.aic, \n",
    "                            'bic': result.bic,\n",
    "                            'ljungbox': acorr_ljungbox(result.resid, lags=12)[1].mean(),\n",
    "                            'pvalues': result.pvalues.min()}, \n",
    "                            ignore_index=True)\n",
    "        except:\n",
    "            continue\n",
    "            \n",
    "        clear_output(' ')\n",
    "        print(f\"{counter}/{n} - {time() - s_time:.0f}s\")\n",
    "        counter += 1"
   ]
  },
  {
   "cell_type": "markdown",
   "id": "e888deb6",
   "metadata": {},
   "source": [
    "**A partir des 324 modèles**, une sélection plus fine peut-être établie en triant ceux uniquement qui répondent aux critères suivants :"
   ]
  },
  {
   "cell_type": "code",
   "execution_count": null,
   "id": "5feef83f",
   "metadata": {},
   "outputs": [],
   "source": [
    "#Sélection des modèles SARIMA les plus optimaux selon les tests de significativité des paramètres \n",
    "#et de blancheur du résidu sont validés au niveau 5%\n",
    "results_SARIMA_filter = results_SARIMA[(results_SARIMA['ljungbox'] > 0.05)]\n",
    "results_SARIMA_filter = results_SARIMA_filter[results_SARIMA_filter['pvalues'] < 0.05]"
   ]
  },
  {
   "cell_type": "code",
   "execution_count": null,
   "id": "f74e61dc",
   "metadata": {},
   "outputs": [],
   "source": [
    "#Utilisation de la fonction .rank() pour déterminer la position de chaque modèle selon la minimisation AIC / BIC\n",
    "results_SARIMA_filter['rank_aic'] = results_SARIMA_filter['aic'].rank(ascending=True)\n",
    "results_SARIMA_filter['rank_bic'] = results_SARIMA_filter['bic'].rank(ascending=True)"
   ]
  },
  {
   "cell_type": "code",
   "execution_count": null,
   "id": "3789622f",
   "metadata": {},
   "outputs": [],
   "source": [
    "#Visualisation des 30 modèles les plus performants sur les 324 initiaux\n",
    "def highlight_greaterthan(x):\n",
    "    if x.rank_aic == 25:\n",
    "        return ['background-color: #2399f9']*7\n",
    "    else:\n",
    "        return ['background-color: None']*7\n",
    "\n",
    "results_SARIMA_filter.sort_values('rank_aic', ascending=True)[:30].style.apply(highlight_greaterthan, axis=1)\n"
   ]
  },
  {
   "cell_type": "markdown",
   "id": "0a877680",
   "metadata": {},
   "source": [
    "Selon la minimisation du critère AIC et BIC , **le modèle (1, 1, 1)x(2, 1, 1, 12) ressort comme étant le plus optimal.** Ce choix a été fait après plusieurs tests sur plusieurs modèles, il ressort comme étant le plus performant en tenant compte également de la significativité des paramètres, ainsi que la blancheur du résidu estimée à l'aide du test de Ljung–Box. Les tests de significativité des paramètres et de blancheur du résidu sont validés au niveau 5%."
   ]
  },
  {
   "cell_type": "code",
   "execution_count": null,
   "id": "6f2fffff",
   "metadata": {},
   "outputs": [],
   "source": [
    "#Instanciation et entrainement du modèle SARIMA via statsmodels\n",
    "model = SARIMAX(np.asarray(y), order=(1,1,1), seasonal_order=(2,1,1,12))\n",
    "results = model.fit()\n",
    "print(results.summary())"
   ]
  },
  {
   "cell_type": "markdown",
   "id": "37df3462",
   "metadata": {},
   "source": [
    "#### Normalité des résidus :\n",
    "\n",
    "Dans le cadre de prévisions, il convient de vérifier la normalité des résidus pour tester l'adéquation de nos modèles. La normalité peut-être détectée de façon graphique, mais des tests statistiques amènent un point de vue objectif non négligeable."
   ]
  },
  {
   "cell_type": "code",
   "execution_count": null,
   "id": "8ec02192",
   "metadata": {},
   "outputs": [],
   "source": [
    "#La fonction .plot_diagnostics() permet d'établir un diagnostic rapide du modèle SARIMA identifié  \n",
    "fig = results.plot_diagnostics()"
   ]
  },
  {
   "cell_type": "markdown",
   "id": "c0d9c746",
   "metadata": {},
   "source": [
    "La représentation \"Standardized residual\" et \"Correlogram\" confirment qu'il n'y a pas de corrélation des résidus. Les résidus sont normalement distribués KDE vs distribution normale - N (0,1). La distribution ordonnée des résidus représentée par le du Q-Q plot est globalement satisfaisant, il y a quand même des petites divergences vers les queues de distribution. Il est intéressant de coupler l'approche visuelle par des tests statistiques."
   ]
  },
  {
   "cell_type": "code",
   "execution_count": null,
   "id": "a8728304",
   "metadata": {},
   "outputs": [],
   "source": [
    "#Test de Shapiro-Wilk\n",
    "from scipy.stats import shapiro\n",
    "shapiro(results.resid)"
   ]
  },
  {
   "cell_type": "code",
   "execution_count": null,
   "id": "bb2efca1",
   "metadata": {},
   "outputs": [],
   "source": [
    "#Test de Jarque-Bera\n",
    "results.test_normality(\"jarquebera\")[0][1]"
   ]
  },
  {
   "cell_type": "markdown",
   "id": "37ef0f4b",
   "metadata": {},
   "source": [
    "Ce test ne prend pas en compte les premiers résidus d'après la documentation, ce qui rappelle le premier constat du Q-Q plot, les premiers résidus divergent légèrement d'un schéma gaussien, le test ne les prend pas en compte est devient donc concluant sans pouvoir rejeter l'hypothèse nulle de normalité des résidus dans ce cadre précis.\n",
    "\n",
    "Ici, l'hypothèse de normalité est remise en cause par Shapiro (p-value < 0.05).\n",
    "\n",
    "Néanmoins, l'observation des résidus, le fait qu'ils ne soient pas très différents d'une distribution symétrique, et le fait que l'échantillon soit de taille suffisante permettent de dire que **les résultats obtenus par le modèle ne sont pas absurdes**, même si le résidu n'est pas considéré comme étant gaussien."
   ]
  },
  {
   "cell_type": "code",
   "execution_count": null,
   "id": "f7c28012",
   "metadata": {},
   "outputs": [],
   "source": [
    "#Visualisation de la prévision à 12 mois par la méthode SARIMA\n",
    "pred_model = results.get_forecast(12)\n",
    "pred = pred_model.predicted_mean\n",
    "\n",
    "plt.plot(df['conso_corr'], label='Consommation corrigée')\n",
    "plt.plot(pd.date_range(df.index[len(df)-1], periods=12, freq='M'), pred, color='r', label='Prévision SARIMA')\n",
    "\n",
    "plt.title(\"Consommation d'électricité en France - Prévision 2019\")\n",
    "plt.legend()\n",
    "\n",
    "plt.savefig('p9_graphic/sarima_prevision2019.jpg')\n",
    "plt.show() "
   ]
  },
  {
   "cell_type": "code",
   "execution_count": null,
   "id": "8ace2e1a",
   "metadata": {},
   "outputs": [],
   "source": [
    "#Visualisation des intervalles de confiance sur la prévision à 12 mois\n",
    "pred_model = results.get_forecast(12)\n",
    "pred = pred_model.predicted_mean\n",
    "\n",
    "pred_l = [(elt[0]) for elt in pred_model.conf_int(alpha=0.05)]\n",
    "pred_u = [(elt[1]) for elt in pred_model.conf_int(alpha=0.05)]\n",
    "\n",
    "plt.plot(df['conso_corr'].iloc[-1:], label='Consommation corrigée')\n",
    "plt.plot(pd.date_range(df.index[len(df)-1], periods=12, freq='M'), pred, color='r', label='Prévision SARIMA')\n",
    "plt.plot(pd.date_range(df.index[len(df)-1], periods=12, freq='M'), \n",
    "         pred_l, color='g', linestyle='--', label='int95%_inf')\n",
    "plt.plot(pd.date_range(df.index[len(df)-1], periods=12, freq='M'), \n",
    "         pred_u, color='g', linestyle='--', label='int95%_sup')\n",
    "\n",
    "plt.title(\"Consommation d'électricité en France - Prévision 2019\")\n",
    "plt.legend()\n",
    "\n",
    "plt.savefig('p9_graphic/sarima_prevision2019_int95.jpg')\n",
    "plt.show() "
   ]
  },
  {
   "cell_type": "markdown",
   "id": "b016a626",
   "metadata": {},
   "source": [
    "Un intervalle de confiance globalement satisfaisant. Notons qu'il semble y avoir un niveau d'incertitude plus marqué sur une durée de prévision plus longue."
   ]
  },
  {
   "cell_type": "markdown",
   "id": "8cc66ba4",
   "metadata": {},
   "source": [
    "### Analyse a posteriori\n",
    "\n",
    "On tronque la série de l’année 2018, qu’on cherche ensuite à prévoir à partir de l’historique 2012-2017."
   ]
  },
  {
   "cell_type": "code",
   "execution_count": null,
   "id": "67b9db91",
   "metadata": {},
   "outputs": [],
   "source": [
    "#Troncature des données sur les années 2017 et 2018\n",
    "df_tronc = df[:'2017'] \n",
    "x_prevision = df['2018':]  "
   ]
  },
  {
   "cell_type": "code",
   "execution_count": null,
   "id": "84069dee",
   "metadata": {},
   "outputs": [],
   "source": [
    "model_tronc = SARIMAX(np.asarray(df_tronc['conso_corr']), order=(1,1,1), seasonal_order=(2,1,1,12))\n",
    "results_tronc = model_tronc.fit()\n",
    "print(results_tronc.summary())\n",
    "\n",
    "print('Retard : p-value')\n",
    "for elt in [6, 12, 18, 24, 30, 36]:\n",
    "    print('{} : {}'.format(elt, acorr_ljungbox(results_tronc.resid, lags=elt)[1].mean()))"
   ]
  },
  {
   "cell_type": "markdown",
   "id": "ca48e548",
   "metadata": {},
   "source": [
    "Les tests de significativité des paramètres et de blancheur du résidu sont validés au niveau 5%."
   ]
  },
  {
   "cell_type": "code",
   "execution_count": null,
   "id": "0874ebf8",
   "metadata": {},
   "outputs": [],
   "source": [
    "#Visualisation par restriction sur l'année 2018\n",
    "pred_model_tronc = results_tronc.get_forecast(12)\n",
    "pred_tronc = pred_model_tronc.predicted_mean\n",
    "\n",
    "plt.plot(df[\"conso_corr\"].iloc[-12:], label='Consommation corrigée')\n",
    "plt.plot(x_prevision.index, pred_tronc, color='r', label='Prévision SARIMA')\n",
    "\n",
    "\n",
    "plt.title(\"Consommation d'électricité en France 2018 - Prévision a posteriori 2018\")\n",
    "        \n",
    "plt.legend()\n",
    "plt.savefig(\"p9_graphic/prevision_visu20182018_sarima_aposteriori.png\")\n",
    "plt.show()"
   ]
  },
  {
   "cell_type": "code",
   "execution_count": null,
   "id": "4005c15c",
   "metadata": {},
   "outputs": [],
   "source": [
    "mape = round((np.abs(1-pred_tronc/x_prevision[\"conso_corr\"])).mean()*100, 2)\n",
    "mape"
   ]
  },
  {
   "cell_type": "markdown",
   "id": "c683bd83",
   "metadata": {},
   "source": [
    "Prévision à 12 mois performante, sans s'arrêter strictement au MAPE, la méthode SARIMA semble mieux prendre en compte les impacts saisonniers (pics et creux)."
   ]
  },
  {
   "cell_type": "code",
   "execution_count": null,
   "id": "f53931eb",
   "metadata": {},
   "outputs": [],
   "source": [
    "#Troncature des données pour une prévision a posteriori de 24 mois\n",
    "df_tronc = df[:'2016']\n",
    "x_prevision = df['2017':]"
   ]
  },
  {
   "cell_type": "code",
   "execution_count": null,
   "id": "c831d1ac",
   "metadata": {},
   "outputs": [],
   "source": [
    "model_tronc = SARIMAX(np.asarray(df_tronc['conso_corr']), order=(1,1,1), seasonal_order=(2,1,1,12))\n",
    "results_tronc = model_tronc.fit()\n",
    "print(results_tronc.summary())\n",
    "\n",
    "print('Retard : p-value')\n",
    "for elt in [6, 12, 18, 24, 30, 36]:\n",
    "    print('{} : {}'.format(elt, acorr_ljungbox(results_tronc.resid, lags=elt)[1].mean()))"
   ]
  },
  {
   "cell_type": "markdown",
   "id": "1cb9b384",
   "metadata": {},
   "source": [
    "Notons qu'il n'est pas facile de tester une prévision a posteriori sur 24 mois sans avoir à réoptimiser le modèle. Ici, un paramètre AR saisonnier n'est plus significatif, il serait donc nécessaire de le retrirer pour pouvoir ré-évaluer la prédiction. Ici, il n'est pas utile d'aller plus loin dans cette démarche de ré-optimisation du modèle, celui choisi satisfait nos objectifs de prédiction à 12 mois."
   ]
  },
  {
   "cell_type": "markdown",
   "id": "82ef3b4f",
   "metadata": {},
   "source": [
    "### Conclusion\n",
    "\n",
    "Dans cette étude, nous avons utilisé les données mensuelles de consommation d’électricité en France, ainsi que l'effet de température lié au chauffage pour tester des modèles de prévison de cette consommation à 12 mois. L’exploration de ces données nous a révélé des caracteristiques tels que la non stationnarité de la série de consommation d’électricité et sa très forte inertie (autocorrélation forte et longue). Deux processus de différenciation ont été nécessaire pour rendre la série stationnaire.\n",
    "\n",
    "Les prévisions par la méthode de lissage exponentiel Holt-Winters et SARIMA sont globablement satisfaisantes, avec l’erreur absolue moyenne en pourcentage au dessous de 3%. Par ailleurs, le modèle SARIMA sera retenu prioritairement pour prédire la consommation d’électricité plus ponctuelle (à court terme), il sera plus performant et plus robuste dans des prévisions devant prendre en compte de forts impacts saisonniers."
   ]
  },
  {
   "cell_type": "code",
   "execution_count": null,
   "id": "1609fc62",
   "metadata": {},
   "outputs": [],
   "source": [
    "Retour vers la page notebook précédent traitant la correction de la consommation de l'effet de température"
   ]
  }
 ],
 "metadata": {
  "kernelspec": {
   "display_name": "Python 3 (ipykernel)",
   "language": "python",
   "name": "python3"
  },
  "language_info": {
   "codemirror_mode": {
    "name": "ipython",
    "version": 3
   },
   "file_extension": ".py",
   "mimetype": "text/x-python",
   "name": "python",
   "nbconvert_exporter": "python",
   "pygments_lexer": "ipython3",
   "version": "3.9.13"
  }
 },
 "nbformat": 4,
 "nbformat_minor": 5
}
