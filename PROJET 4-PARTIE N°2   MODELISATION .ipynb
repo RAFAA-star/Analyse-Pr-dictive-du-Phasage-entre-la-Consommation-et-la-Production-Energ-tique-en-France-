{
 "cells": [
  {
   "cell_type": "markdown",
   "id": "f605428d",
   "metadata": {},
   "source": [
    "# Prédiction de la demande en électricité sur le marché français\n",
    "*Etude data - Projet 4 - (Mars 2023)\n",
    "\n",
    "**Data Scientest *-Formation Bootcamp**\n",
    "\n",
    "Traitement des données sur Jupyter Notebook (Distribution Anaconda)*\n",
    "\n",
    "**Etude réalisée en langage Python**\n",
    "\n",
    "**Data source**\n",
    "\n",
    "Données mensuelles de consommation totale d'électricité en énergie Données météo pour corriger l'effet température\n",
    "\n",
    "Les consommations en électricité sont exprimées en Gigawatt (GWh)."
   ]
  },
  {
   "cell_type": "markdown",
   "id": "82f03f39",
   "metadata": {},
   "source": [
    "### Correction des données de consommation mensuelles de l'effet température\n",
    "L'effet température (dues au chauffage électrique) sera donc corrigé par régression linéaire. Scikit-learn peut-être utilisée ou Statsmodels, à des fins de comparaison les deux méthodes seront traitées."
   ]
  },
  {
   "cell_type": "code",
   "execution_count": 1,
   "id": "94bba53c",
   "metadata": {},
   "outputs": [
    {
     "ename": "NameError",
     "evalue": "name 'df' is not defined",
     "output_type": "error",
     "traceback": [
      "\u001b[1;31m---------------------------------------------------------------------------\u001b[0m",
      "\u001b[1;31mNameError\u001b[0m                                 Traceback (most recent call last)",
      "\u001b[1;32m~\\AppData\\Local\\Temp\\ipykernel_11136\\3020487570.py\u001b[0m in \u001b[0;36m<module>\u001b[1;34m\u001b[0m\n\u001b[0;32m      1\u001b[0m \u001b[1;31m#Préparation des données pour établir la Régression linéaire\u001b[0m\u001b[1;33m\u001b[0m\u001b[1;33m\u001b[0m\u001b[0m\n\u001b[1;32m----> 2\u001b[1;33m \u001b[0my\u001b[0m\u001b[1;33m=\u001b[0m\u001b[0mdf\u001b[0m\u001b[1;33m[\u001b[0m\u001b[1;34m'consommation'\u001b[0m\u001b[1;33m]\u001b[0m\u001b[1;33m\u001b[0m\u001b[1;33m\u001b[0m\u001b[0m\n\u001b[0m\u001b[0;32m      3\u001b[0m \u001b[0mx\u001b[0m\u001b[1;33m=\u001b[0m\u001b[0mdf\u001b[0m\u001b[1;33m.\u001b[0m\u001b[0mdrop\u001b[0m\u001b[1;33m(\u001b[0m\u001b[0mcolumns\u001b[0m\u001b[1;33m=\u001b[0m\u001b[1;33m[\u001b[0m\u001b[1;34m'consommation'\u001b[0m\u001b[1;33m]\u001b[0m\u001b[1;33m)\u001b[0m\u001b[1;33m\u001b[0m\u001b[1;33m\u001b[0m\u001b[0m\n",
      "\u001b[1;31mNameError\u001b[0m: name 'df' is not defined"
     ]
    }
   ],
   "source": [
    "#Préparation des données pour établir la Régression linéaire \n",
    "y=df['consommation']\n",
    "x=df.drop(columns=['consommation'])"
   ]
  },
  {
   "cell_type": "code",
   "execution_count": null,
   "id": "c111b1d2",
   "metadata": {},
   "outputs": [],
   "source": [
    "#Régression linéaire par Scikit-learn\n",
    "#Instanciation et entrainement du modèle\n",
    "from sklearn import linear_model\n",
    "reg = linear_model.LinearRegression(fit_intercept=True)\n",
    "reg.fit(x, y)"
   ]
  },
  {
   "cell_type": "code",
   "execution_count": null,
   "id": "7d7b7f1c",
   "metadata": {},
   "outputs": [],
   "source": [
    "#Coefficient de régression linéaire\n",
    "reg.coef_[0]"
   ]
  },
  {
   "cell_type": "markdown",
   "id": "0627e425",
   "metadata": {},
   "source": [
    "**Le modèle de Régression linéaire peut également être traité par Statsmodels, c'est ce que nous allons voir:**"
   ]
  },
  {
   "cell_type": "code",
   "execution_count": null,
   "id": "89d7914c",
   "metadata": {},
   "outputs": [],
   "source": [
    "#Préparation des données pour établir la Régression linéaire\n",
    "y = df['consommation']\n",
    "x = sm.add_constant(df['dju_chauffage'])"
   ]
  },
  {
   "cell_type": "code",
   "execution_count": null,
   "id": "9e9b4273",
   "metadata": {},
   "outputs": [],
   "source": [
    "#Nouvelle Régression linéaire par Statsmodels\n",
    "#Instanciation du modèle et entrainement\n",
    "reg = sm.OLS(y, x).fit()\n",
    "print(reg.summary())"
   ]
  },
  {
   "cell_type": "markdown",
   "id": "3710e15f",
   "metadata": {},
   "source": [
    "Le coefficient de détermination de 95% est très satisfaisant, de plus il est identique à celui estimé par le précédent modèle via Scikit-learn."
   ]
  },
  {
   "cell_type": "code",
   "execution_count": null,
   "id": "df260fc0",
   "metadata": {},
   "outputs": [],
   "source": [
    "#Représentation de la Régression linéaire obtenue\n",
    "df.plot(x='dju_chauffage', y='consommation', style='.')\n",
    "plt.plot(df['dju_chauffage'], reg.predict(sm.add_constant(df['dju_chauffage'])))\n",
    "\n",
    "plt.savefig(\"p9_graphic/regression_lineaire_conso_dju.png\")\n",
    "plt.show()"
   ]
  },
  {
   "cell_type": "code",
   "execution_count": null,
   "id": "7bc53704",
   "metadata": {},
   "outputs": [],
   "source": [
    "#Coefficient de régression linéaire\n",
    "reg.params['dju_chauffage']"
   ]
  },
  {
   "cell_type": "markdown",
   "id": "b0bad3ac",
   "metadata": {},
   "source": [
    "Le coefficient de régression linéaire est vérifié par les deux méthodes."
   ]
  },
  {
   "cell_type": "code",
   "execution_count": null,
   "id": "c6b026df",
   "metadata": {},
   "outputs": [],
   "source": [
    "#Calcul de la correction : l'effet DJU est retranché à la consommation totale\n",
    "df['conso_corr'] = df['consommation'] - df['dju_chauffage']*reg.params['dju_chauffage']"
   ]
  },
  {
   "cell_type": "code",
   "execution_count": null,
   "id": "5ad4aa6c",
   "metadata": {},
   "outputs": [],
   "source": [
    "#Visualisation de la consommation en électricité avant et après correction\n",
    "plt.plot(df['consommation'], label='Consommation')\n",
    "plt.plot(df['conso_corr'], label='Consommation corrigée')\n",
    "plt.title('Consommation en électricité avant et après correction')\n",
    "\n",
    "plt.savefig(\"p9_graphic/conso_corr.png\")\n",
    "plt.legend()\n",
    "plt.show()"
   ]
  },
  {
   "cell_type": "markdown",
   "id": "7fbc2ecb",
   "metadata": {},
   "source": [
    "### Test de normalité des résidus :\n",
    "L’inférence dans la régression linéaire repose sur l’hypothèse de normalité des erreurs. Une première vérification importante consiste à vérifier la compatibilité des résidus (l’erreur observée sur l’échantillon)."
   ]
  },
  {
   "cell_type": "code",
   "execution_count": null,
   "id": "cdedc0a4",
   "metadata": {},
   "outputs": [],
   "source": [
    "#Distribution des résidus\n",
    "fig, ax = plt.subplots(1, 2, figsize=(20,10))\n",
    "\n",
    "plt.hist(reg.resid, density=True)\n",
    "\n",
    "model_norm_residuals = reg.get_influence().resid_studentized_internal\n",
    "QQ = ProbPlot(model_norm_residuals)\n",
    "QQ.qqplot(line='45', alpha=0.5, color='#4C72B0', ax=ax[0])\n",
    "\n",
    "ax[0].set_title('Q-Q Plot')\n",
    "ax[1].set_title('Histogramme des résidus')\n",
    "ax[1].set_xlabel('Valeurs résiduelles')\n",
    "ax[1].set_ylabel('Nombre de résidus')\n",
    "                \n",
    "plt.savefig('p9_graphic/qqplot_histo_residus_reg.jpg')\n",
    "plt.show()"
   ]
  },
  {
   "cell_type": "markdown",
   "id": "3aa8fd1b",
   "metadata": {},
   "source": [
    "On peut identifier une distribution des résidus satisfaisante, alignée avec la distribution théorique d'une loi normale. Un test de Shapiro-Wilk est nécessaire pour valider ou rejeter cette intuition."
   ]
  },
  {
   "cell_type": "code",
   "execution_count": null,
   "id": "ad882ea6",
   "metadata": {},
   "outputs": [],
   "source": [
    "#Test de Shapiro-Wilk\n",
    "shapiro(reg.resid)"
   ]
  },
  {
   "cell_type": "markdown",
   "id": "8ca31a2d",
   "metadata": {},
   "source": [
    "La p-value de 0.526 ne permet pas de rejeter l'hypothèse nulle H0 de normalité des résidus, le test est donc validé."
   ]
  },
  {
   "cell_type": "markdown",
   "id": "3b15fa69",
   "metadata": {},
   "source": [
    "### Désaisonnalisation de la consommation obtenue après correction grâce aux moyennes mobiles\n",
    "\n",
    "\n",
    "La méthode seasonal_decompose de statsmodels permet de visualiser la tendance, la saisonnalité et le résidu du signal"
   ]
  },
  {
   "cell_type": "code",
   "execution_count": null,
   "id": "e5902554",
   "metadata": {},
   "outputs": [],
   "source": [
    "from statsmodels.tsa.seasonal import seasonal_decompose\n",
    "import matplotlib.pyplot as plt\n",
    "\n",
    "decomposition = seasonal_decompose(df['conso_corr'],  model='additive')\n",
    "fig, ax = plt.subplots(4,1)\n",
    "ax[0].plot(decomposition.observed)\n",
    "ax[0].set_title('Série', fontsize=15)\n",
    "ax[1].plot(decomposition.trend)\n",
    "ax[1].set_title('Tendance', fontsize=15)\n",
    "ax[2].plot(decomposition.seasonal)\n",
    "ax[2].set_title('Saisonnalité', fontsize=15)\n",
    "ax[3].plot(decomposition.resid,'bo')\n",
    "ax[3].set_title('Résidus', fontsize=15)\n",
    "\n",
    "plt.savefig('p9_graphic/decomposition.jpg')\n",
    "plt.show()"
   ]
  },
  {
   "cell_type": "code",
   "execution_count": null,
   "id": "dea79f5f",
   "metadata": {},
   "outputs": [],
   "source": [
    "#Différence avec la saisonnalité pour obtenir une série temporelle hors impact saisonnier.\n",
    "df['conso_cvs'] = df['conso_corr'] - decomposition.seasonal"
   ]
  },
  {
   "cell_type": "code",
   "execution_count": null,
   "id": "b67a3dba",
   "metadata": {},
   "outputs": [],
   "source": [
    "#Visualisation de la consommation en électricité avant et après désaisonnalisation\n",
    "plt.plot(df['conso_corr'], label='Consommation corrigée')\n",
    "plt.plot(df['conso_cvs'], label='Consommation corrigée désaisonnalisée')\n",
    "plt.title('Consommation en électricité avant et après désaisonnalisation')\n",
    "\n",
    "plt.savefig(\"p9_graphic/conso_cvs.png\")\n",
    "plt.legend()\n",
    "plt.show()"
   ]
  },
  {
   "cell_type": "markdown",
   "id": "8060c49f",
   "metadata": {},
   "source": [
    "Le signal ressort corrigé et désaisonnalisé, il est de plus en plus représentatif d'un modèle additif."
   ]
  },
  {
   "cell_type": "code",
   "execution_count": null,
   "id": "943ff2b5",
   "metadata": {},
   "outputs": [],
   "source": [
    "#Visualisation de la consommation en électricité avec moyenne mobile à 12 mois\n",
    "plt.plot(df['conso_corr'], label='Consommation corrigée')\n",
    "plt.plot(df['conso_corr'].rolling(12, center=True).mean(), label='Moyenne Mobile à 12 mois')\n",
    "\n",
    "\n",
    "plt.title('Consommation en électricité et moyenne mobile à 12 mois')\n",
    "\n",
    "plt.savefig(\"p9_graphic/conso_moyenne_mobile.png\")\n",
    "plt.legend()\n",
    "plt.show()"
   ]
  },
  {
   "cell_type": "markdown",
   "id": "eb0fa2c7",
   "metadata": {},
   "source": [
    "Le moyenne mobile à 12 mois affichée ci-dessus est représentative d'un signal sans tendance, constant sur le timeframe."
   ]
  },
  {
   "cell_type": "markdown",
   "id": "6c4fadf9",
   "metadata": {},
   "source": [
    "[Voir la suite du projet : Correction de l'effet de température et test statistique]\\\n",
    "\n",
    "[Suite du projet : Prévision de la consommation par modélisation Holt-Winters, SARIMA...]\\"
   ]
  }
 ],
 "metadata": {
  "kernelspec": {
   "display_name": "Python 3 (ipykernel)",
   "language": "python",
   "name": "python3"
  },
  "language_info": {
   "codemirror_mode": {
    "name": "ipython",
    "version": 3
   },
   "file_extension": ".py",
   "mimetype": "text/x-python",
   "name": "python",
   "nbconvert_exporter": "python",
   "pygments_lexer": "ipython3",
   "version": "3.9.13"
  }
 },
 "nbformat": 4,
 "nbformat_minor": 5
}
